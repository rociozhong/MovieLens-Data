{
 "cells": [
  {
   "cell_type": "code",
   "execution_count": 10,
   "metadata": {
    "scrolled": false
   },
   "outputs": [
    {
     "name": "stdout",
     "output_type": "stream",
     "text": [
      "Number of users = 943 | Number of movies = 1682\n"
     ]
    }
   ],
   "source": [
    "import numpy as np\n",
    "import pandas as pd\n",
    "import math\n",
    "from helperFunctions import *\n",
    "from __future__ import division\n",
    "import random\n",
    "\n",
    "header = ['user_id', 'item_id', 'rating', 'timestamp']\n",
    "df = pd.read_csv('u.data', sep='\\t', names=header)\n",
    "\n",
    "n_users = df.user_id.unique().shape[0]\n",
    "n_items = df.item_id.unique().shape[0]\n",
    "print ('Number of users = ' + str(n_users) + ' | Number of movies = ' + str(n_items))\n",
    "\n",
    "template = pd.DataFrame(np.zeros((n_users, n_items)))\n",
    "template.index = np.sort(df[\"user_id\"].unique())\n",
    "template.columns = np.sort(df[\"item_id\"].unique())"
   ]
  },
  {
   "cell_type": "code",
   "execution_count": 12,
   "metadata": {
    "collapsed": true
   },
   "outputs": [],
   "source": [
    "import numpy as np\n",
    "import pandas as pd\n",
    "import math\n",
    "\n",
    "def rating_matrix(ui, template):\n",
    "    \"\"\"\n",
    "    input: u1-u5 base/test\n",
    "    output: 943 x 1682 rating matrix in np.array\n",
    "    \"\"\"\n",
    "    result = template.copy()\n",
    "    for index, row in ui.iterrows():\n",
    "        result.loc[row[\"user_id\"], row[\"item_id\"]] = row[\"rating\"]\n",
    "    return np.array(result)\n",
    "\n",
    "\n",
    "def matrix_factorization(R, P, Q, K, steps=20, alpha=0.0002, beta=0.02):\n",
    "    \"\"\"\n",
    "    output: P, Q such that R is approximated by P x Q.T\n",
    "    \"\"\"\n",
    "    Q = Q.T\n",
    "    for step in range(steps):\n",
    "        for i in range(len(R)):\n",
    "            for j in range(len(R[i])):\n",
    "                if R[i][j] > 0:\n",
    "                    eij = R[i][j] - np.dot(P[i,:],Q[:,j])\n",
    "                    for k in range(K):\n",
    "                        P[i][k] += alpha * (2 * eij * Q[k][j] - beta * P[i][k])\n",
    "                        Q[k][j] += alpha * (2 * eij * P[i][k] - beta * Q[k][j])\n",
    "        eR = np.dot(P,Q)\n",
    "        e = 0\n",
    "        for i in range(len(R)):\n",
    "            for j in range(len(R[i])):\n",
    "                if R[i][j] > 0:\n",
    "                    e += pow(R[i][j] - np.dot(P[i,:],Q[:,j]), 2)\n",
    "                    for k in range(K):\n",
    "                        e += (beta / 2) * (pow(P[i][k],2) + pow(Q[k][j],2))\n",
    "        if e < 0.001:\n",
    "            break\n",
    "    return P, Q.T\n",
    "\n",
    "def content_based_score(R, P, Q, K, steps=20, alpha=0.0002, beta=0.02):\n",
    "    \"\"\"\n",
    "    output: only P such that R is approximated by P x Q.T\n",
    "    \"\"\"\n",
    "    Q = Q.T\n",
    "    for step in range(steps):\n",
    "        for i in range(len(R)):\n",
    "            for j in range(len(R[i])):\n",
    "                if R[i][j] > 0:\n",
    "                    eij = R[i][j] - np.dot(P[i,:],Q[:,j])\n",
    "                    for k in range(K):\n",
    "                        P[i][k] += alpha * (2 * eij * Q[k][j] - beta * P[i][k])\n",
    "        eR = np.dot(P,Q)\n",
    "        e = 0\n",
    "        for i in range(len(R)):\n",
    "            for j in range(len(R[i])):\n",
    "                if R[i][j] > 0:\n",
    "                    e += pow(R[i][j] - np.dot(P[i,:],Q[:,j]), 2)\n",
    "                    for k in range(K):\n",
    "                        e += (beta / 2) * pow(P[i][k],2)\n",
    "        if e < 0.001:\n",
    "            break\n",
    "    return P\n",
    "\n",
    "def user_based_score(R, P, Q, K, steps=20, alpha=0.0002, beta=0.02):\n",
    "    \"\"\"\n",
    "    output: Q.T such that R is approximated by P x Q.T\n",
    "    \"\"\"\n",
    "    Q = Q.T\n",
    "    for step in range(steps):\n",
    "        for i in range(len(R)):\n",
    "            for j in range(len(R[i])):\n",
    "                if R[i][j] > 0:\n",
    "                    eij = R[i][j] - np.dot(P[i,:],Q[:,j])\n",
    "                    for k in range(K):\n",
    "                        Q[k][j] += alpha * (2 * eij * P[i][k] - beta * Q[k][j])\n",
    "        eR = np.dot(P,Q)\n",
    "        e = 0\n",
    "        for i in range(len(R)):\n",
    "            for j in range(len(R[i])):\n",
    "                if R[i][j] > 0:\n",
    "                    e += pow(R[i][j] - np.dot(P[i,:],Q[:,j]), 2)\n",
    "                    for k in range(K):\n",
    "                        e += (beta / 2) * pow(Q[k][j],2)\n",
    "        if e < 0.001:\n",
    "            break\n",
    "    return Q.T\n",
    "\n",
    "\n",
    "def sse(R, Rhat):\n",
    "    \"\"\"\n",
    "    input: R and Rhat are np.array\n",
    "    \"\"\"\n",
    "    mask = np.where(R > 0)\n",
    "    err = (R - Rhat)[mask]\n",
    "    return (err ** 2).sum()"
   ]
  },
  {
   "cell_type": "code",
   "execution_count": 15,
   "metadata": {},
   "outputs": [
    {
     "name": "stdout",
     "output_type": "stream",
     "text": [
      "(80000, 4)\n",
      "(20000, 4)\n",
      "80000\n",
      "20000\n",
      "Matrix factorization on train set 1 started ......\n",
      "Matrix factorization on train set 1 ended\n",
      "(80000, 4)\n",
      "(20000, 4)\n",
      "80000\n",
      "20000\n",
      "Matrix factorization on train set 2 started ......\n",
      "Matrix factorization on train set 2 ended\n",
      "(80000, 4)\n",
      "(20000, 4)\n",
      "80000\n",
      "20000\n",
      "Matrix factorization on train set 3 started ......\n",
      "Matrix factorization on train set 3 ended\n",
      "(80000, 4)\n",
      "(20000, 4)\n",
      "80000\n",
      "20000\n",
      "Matrix factorization on train set 4 started ......\n",
      "Matrix factorization on train set 4 ended\n",
      "(80000, 4)\n",
      "(20000, 4)\n",
      "80000\n",
      "20000\n",
      "Matrix factorization on train set 5 started ......\n",
      "Matrix factorization on train set 5 ended\n"
     ]
    }
   ],
   "source": [
    "total_sse = 0\n",
    "for i in range(1, 6):\n",
    "    ubase = pd.read_csv(\"u{}.base\".format(i), sep='\\t', names=header)\n",
    "    utest = pd.read_csv(\"u{}.test\".format(i), sep='\\t', names=header)\n",
    "    train = rating_matrix(ubase, template)\n",
    "    test = rating_matrix(utest, template)\n",
    "    print (ubase.shape)\n",
    "    print (utest.shape)\n",
    "    print (len(train[train > 0]))\n",
    "    print (len(test[test > 0]))\n",
    "    random.seed(2018 + i)\n",
    "    print (\"Matrix factorization on train set {} started ......\".format(i))\n",
    "    K = 2\n",
    "    P = np.random.rand(n_users, K)\n",
    "    Q = np.random.rand(n_items, K)\n",
    "    Phat, Qhat = matrix_factorization(R = train, P = P, Q = Q, K = K)\n",
    "    rating_hat = np.dot(Phat, Qhat.T)\n",
    "    total_sse += sse(test, rating_hat)\n",
    "    print (\"Matrix factorization on train set {} ended\".format(i))"
   ]
  },
  {
   "cell_type": "code",
   "execution_count": 16,
   "metadata": {},
   "outputs": [
    {
     "data": {
      "text/plain": [
       "1.2214791611410365"
      ]
     },
     "execution_count": 16,
     "metadata": {},
     "output_type": "execute_result"
    }
   ],
   "source": [
    "math.sqrt(total_sse / df.shape[0])"
   ]
  },
  {
   "cell_type": "code",
   "execution_count": null,
   "metadata": {
    "collapsed": true
   },
   "outputs": [],
   "source": []
  }
 ],
 "metadata": {
  "kernelspec": {
   "display_name": "Python 3",
   "language": "python",
   "name": "python3"
  },
  "language_info": {
   "codemirror_mode": {
    "name": "ipython",
    "version": 3
   },
   "file_extension": ".py",
   "mimetype": "text/x-python",
   "name": "python",
   "nbconvert_exporter": "python",
   "pygments_lexer": "ipython3",
   "version": "3.6.3"
  }
 },
 "nbformat": 4,
 "nbformat_minor": 2
}
